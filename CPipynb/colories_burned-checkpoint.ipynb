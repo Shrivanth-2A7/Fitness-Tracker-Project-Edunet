{
 "cells": [
  {
   "cell_type": "code",
   "execution_count": null,
   "metadata": {
    "scrolled": true
   },
   "outputs": [],
   "source": [
    "import numpy as np\n",
    "import matplotlib.pyplot as plt\n",
    "import pandas as pd\n",
    "from sklearn.model_selection import train_test_split, GridSearchCV\n",
    "from sklearn.metrics import mean_squared_error\n",
    "from sklearn.preprocessing import StandardScaler\n",
    "from sklearn.linear_model import LinearRegression\n",
    "from sklearn.ensemble import RandomForestRegressor\n",
    "from sklearn import metrics\n",
    "\n",
    "from IPython.display import HTML\n",
    "import plotly.express as px\n",
    "\n",
    "import warnings\n",
    "warnings.filterwarnings('ignore')"
   ]
  },
  {
   "cell_type": "code",
   "execution_count": null,
   "metadata": {},
   "outputs": [],
   "source": [
    "import seaborn as sns"
   ]
  },
  {
   "cell_type": "code",
   "execution_count": null,
   "metadata": {},
   "outputs": [],
   "source": [
    "#Reading the csv files using read_csv() function in pandas library\n",
    "calories = pd.read_csv(\"calories.csv\")\n",
    "exercise = pd.read_csv(\"exercise.csv\")"
   ]
  },
  {
   "cell_type": "code",
   "execution_count": null,
   "metadata": {},
   "outputs": [],
   "source": [
    "calories.head()"
   ]
  },
  {
   "cell_type": "code",
   "execution_count": null,
   "metadata": {},
   "outputs": [],
   "source": [
    "exercise.head()"
   ]
  },
  {
   "cell_type": "code",
   "execution_count": null,
   "metadata": {},
   "outputs": [],
   "source": [
    "#Merging two csv files based on the User_ID in the two files\n",
    "exercise_df = exercise.merge(calories, on = \"User_ID\")\n",
    "exercise_df.head()"
   ]
  },
  {
   "cell_type": "code",
   "execution_count": null,
   "metadata": {},
   "outputs": [],
   "source": [
    "#Shape contains the number of shape[1] (columns) and shape[0] (all the values)\n",
    "print(\"This Dataset has \",exercise_df.shape[0], \" instances and \",len(exercise_df.columns),\" columns \")"
   ]
  },
  {
   "cell_type": "code",
   "execution_count": null,
   "metadata": {},
   "outputs": [],
   "source": [
    "#give the name of the columns\n",
    "exercise_df.columns"
   ]
  },
  {
   "cell_type": "code",
   "execution_count": null,
   "metadata": {},
   "outputs": [],
   "source": [
    "#Interate through each column\n",
    "print(\"Columns : \")\n",
    "for i, column in zip(range(len(exercise_df.columns)), exercise_df.columns):\n",
    "    print(\"\\t\", i + 1, \".\", column)"
   ]
  },
  {
   "cell_type": "code",
   "execution_count": null,
   "metadata": {},
   "outputs": [],
   "source": [
    "#Describe the statistic data\n",
    "exercise_df.describe()"
   ]
  },
  {
   "cell_type": "code",
   "execution_count": null,
   "metadata": {
    "editable": true,
    "scrolled": true,
    "slideshow": {
     "slide_type": ""
    },
    "tags": []
   },
   "outputs": [],
   "source": [
    "#Boxplotting all the column using seaborn library\n",
    "c = ['b','g','r','c','m','y','k','w','b']\n",
    "fig1, axes = plt.subplots(len(exercise_df.columns), 1 , figsize = (10, 20))\n",
    "plt.subplots_adjust(wspace = 0.3, hspace = 0.7)\n",
    "axes = axes.flatten()\n",
    "for i, column in zip(range(len(exercise_df.columns)), exercise_df.columns):\n",
    "    try:\n",
    "        sns.boxplot(data = exercise_df, x = column, color = c[i], ax = axes[i])\n",
    "    except:\n",
    "        fig1.delaxes(axes[i])\n",
    "        continue"
   ]
  },
  {
   "cell_type": "code",
   "execution_count": null,
   "metadata": {},
   "outputs": [],
   "source": [
    "#info() gives the column name count dtype\n",
    "exercise_df.info()"
   ]
  },
  {
   "cell_type": "code",
   "execution_count": null,
   "metadata": {},
   "outputs": [],
   "source": [
    "#Used to see the defect values\n",
    "sns.heatmap(exercise_df.isnull(), yticklabels = False, cbar = False, cmap = \"viridis\")"
   ]
  },
  {
   "cell_type": "code",
   "execution_count": null,
   "metadata": {},
   "outputs": [],
   "source": [
    "print(\"The shape of the dataset before duplicates : \", exercise_df.shape)\n",
    "exercise_df.drop_duplicates(subset = ['User_ID'], keep = 'last',inplace = True)\n",
    "print(\"The shape of the dataset before duplicates : \", exercise_df.shape)"
   ]
  },
  {
   "cell_type": "raw",
   "metadata": {},
   "source": [
    "exercise_df.drop(columns = \"User_ID\",inplace = True)"
   ]
  },
  {
   "cell_type": "code",
   "execution_count": null,
   "metadata": {},
   "outputs": [],
   "source": [
    "exercise_train_data, exercise_test_data = train_test_split(exercise_df, test_size = 0.2 , random_state = 1)\n",
    "print(\"Shape of train dataset : \", exercise_train_data.shape)\n",
    "print(\"Shape of test dataset : \",exercise_test_data.shape)"
   ]
  },
  {
   "cell_type": "code",
   "execution_count": null,
   "metadata": {},
   "outputs": [],
   "source": [
    "c = ['b','g','r','c','m','y','k','w','b']\n",
    "fig1, axes = plt.subplots(len(exercise_train_data.columns) , 2 , figsize = (10, 20))\n",
    "plt.subplots_adjust(wspace = 0.3, hspace = 0.7)\n",
    "axes = axes.flatten()\n",
    "\n",
    "for i, column, color in zip(range(0, len(exercise_train_data.columns) *2, 2) , exercise_train_data.columns , c):\n",
    "    try:\n",
    "        axes[i].title.set_text(column + \" Train Distribution\")\n",
    "        sns.kdeplot(data = exercise_train_data, x = column, ax = axes[i], color = color)\n",
    "    except:\n",
    "        fig1.delaxes(axes[i])\n",
    "        continue\n",
    "\n",
    "for i, column, color in zip(range(1, len(exercise_test_data.columns) *2, 2) , exercise_test_data.columns , c):\n",
    "    try:\n",
    "        axes[i].title.set_text(column + \" Test Distribution\")\n",
    "        sns.kdeplot(data = exercise_test_data, x = column, ax = axes[i], color = color)\n",
    "    except:\n",
    "        fig1.delaxes(axes[i])\n",
    "        continue\n",
    "plt.show()"
   ]
  },
  {
   "cell_type": "code",
   "execution_count": null,
   "metadata": {},
   "outputs": [],
   "source": [
    "sns.pairplot(exercise_train_data[[\"Weight\", \"Height\" , \"Duration\" , \"Heart_Rate\" , \"Calories\" , \"Gender\"]], hue = \"Gender\")"
   ]
  },
  {
   "cell_type": "code",
   "execution_count": null,
   "metadata": {},
   "outputs": [],
   "source": [
    "print(\"Minimum age in dataset is : \", exercise_train_data[\"Age\"].min())\n",
    "print(\"Maximum age in dataset is : \", exercise_train_data[\"Age\"].max())\n"
   ]
  },
  {
   "cell_type": "code",
   "execution_count": null,
   "metadata": {},
   "outputs": [],
   "source": [
    "age_groups = [\"Young\", \"Middled-Aged\" , \"old\"]\n",
    "exercise_train_data[\"Age_groups\"] = pd.cut(exercise_train_data[\"Age\"], bins = (20, 40, 60, 80) , right = False, labels = age_groups)\n",
    "exercise_train_data[\"Age_groups\"].head()"
   ]
  },
  {
   "cell_type": "code",
   "execution_count": null,
   "metadata": {},
   "outputs": [],
   "source": [
    "exercise_train_data[\"Age_groups\"].value_counts()"
   ]
  },
  {
   "cell_type": "code",
   "execution_count": null,
   "metadata": {},
   "outputs": [],
   "source": [
    "plt.rcParams[\"figure.figsize\"] = 8 , 6\n",
    "sns.countplot(data = exercise_train_data , x = \"Age_groups\")"
   ]
  },
  {
   "cell_type": "code",
   "execution_count": null,
   "metadata": {},
   "outputs": [],
   "source": [
    "fig = px.box(exercise_train_data, x = \"Age_groups\", y = \"Calories\", color = \"Gender\")\n",
    "\n",
    "fig.update_layout(\n",
    "    width = 700, \n",
    "    height = 450\n",
    ")\n",
    "fig.show()"
   ]
  },
  {
   "cell_type": "code",
   "execution_count": null,
   "metadata": {},
   "outputs": [],
   "source": [
    "fig = px.box(exercise_train_data, x = \"Age_groups\", y = \"Duration\", color = \"Gender\")\n",
    "\n",
    "fig.update_layout(\n",
    "    width = 700, \n",
    "    height = 450\n",
    ")\n",
    "fig.show()"
   ]
  },
  {
   "cell_type": "code",
   "execution_count": null,
   "metadata": {},
   "outputs": [],
   "source": [
    "print(\"Dataset's median exercise duration in minutes : \", exercise_train_data[\"Duration\"].median())\n",
    "print(\"Dataset's mean exercise duration in minutes : \", exercise_train_data[\"Duration\"].mean())"
   ]
  },
  {
   "cell_type": "code",
   "execution_count": null,
   "metadata": {},
   "outputs": [],
   "source": [
    "plt.rcParams[\"figure.figsize\"] = 8 , 6\n",
    "sns.countplot(data = exercise_train_data , x = \"Gender\")"
   ]
  },
  {
   "cell_type": "code",
   "execution_count": null,
   "metadata": {},
   "outputs": [],
   "source": [
    "fig = px.box(exercise_train_data , x = \"Gender\" , y = \"Duration\")\n",
    "\n",
    "fig.update_layout(\n",
    "    width = 700,\n",
    "    height = 450\n",
    ")\n",
    "fig.show()"
   ]
  },
  {
   "cell_type": "code",
   "execution_count": null,
   "metadata": {},
   "outputs": [],
   "source": [
    "fig = px.box(exercise_train_data , x = \"Gender\" , y = \"Heart_Rate\")\n",
    "\n",
    "fig.update_layout(\n",
    "    width = 700,\n",
    "    height = 450\n",
    ")\n",
    "fig.show()"
   ]
  },
  {
   "cell_type": "code",
   "execution_count": null,
   "metadata": {},
   "outputs": [],
   "source": [
    "for data in [exercise_train_data , exercise_test_data]:\n",
    "    data[\"BMI\"] = data[\"Weight\"]/((data[\"Height\"]/100) ** 2)\n",
    "    data[\"BMI\"] = round(data[\"BMI\"], 2)"
   ]
  },
  {
   "cell_type": "code",
   "execution_count": null,
   "metadata": {},
   "outputs": [],
   "source": [
    "bmi_category = [\"Very severely underweight\" , \"severely underweight\" ,\"Underweight\" , \"Normal\" , \"Overweight\" , \"Obese Class I\" , \"Obese Class II\" , \"Obese Class III\"]\n",
    "exercise_train_data[\"Categorized_BMI\"] = pd.cut(exercise_train_data[\"BMI\"] , bins = (0 , 15 , 16 , 18.5 , 25 , 30 , 35 , 40 , 50) , right = False , labels = bmi_category)\n",
    "exercise_train_data[\"Categorized_BMI\"] = exercise_train_data[\"Categorized_BMI\"].astype(\"object\")\n",
    "exercise_train_data.head()"
   ]
  },
  {
   "cell_type": "code",
   "execution_count": null,
   "metadata": {},
   "outputs": [],
   "source": [
    "ds = exercise_train_data[\"Categorized_BMI\"].value_counts().reset_index()\n",
    "ds.columns = [\"Categorized_BMI\" , \"Count\"]\n",
    "ds"
   ]
  },
  {
   "cell_type": "code",
   "execution_count": null,
   "metadata": {},
   "outputs": [],
   "source": [
    "ds = ds[(ds[\"Categorized_BMI\"] == \"Normal\") | (ds[\"Categorized_BMI\"] == \"Overweight\")]\n",
    "\n",
    "plt.rcParams[\"figure.figsize\"] = 8 , 6\n",
    "sns.barplot(data = ds , x= \"Categorized_BMI\", y = \"Count\")"
   ]
  },
  {
   "cell_type": "code",
   "execution_count": null,
   "metadata": {},
   "outputs": [],
   "source": [
    "ds = exercise_train_data[[\"Gender\", \"Categorized_BMI\"]].value_counts().reset_index().sort_values(by = [\"Gender\" , \"Categorized_BMI\"])\n",
    "ds.columns = [\"Gender\" , \"Categorized_BMI\" , \"Count\"]\n",
    "ds"
   ]
  },
  {
   "cell_type": "code",
   "execution_count": null,
   "metadata": {
    "jupyter": {
     "source_hidden": true
    }
   },
   "outputs": [],
   "source": [
    "plt.rcParams[\"figure.figsize\"] = 8 , 6\n",
    "sns.barplot(data = ds , x = \"Categorized_BMI\" , y = \"Count\" , hue = \"Gender\")"
   ]
  },
  {
   "cell_type": "code",
   "execution_count": null,
   "metadata": {},
   "outputs": [],
   "source": [
    "ds = exercise_train_data[[\"age_groups\" , \"Categorized_BMI\"]].value_counts().reset_index().sort_values(by = [\"age_groups\" , \"Categorized_BMI\"])\n",
    "ds.columns = [\"age_groups\" , \"Categorized_BMI\" , \"Count\"]"
   ]
  },
  {
   "cell_type": "code",
   "execution_count": null,
   "metadata": {},
   "outputs": [],
   "source": []
  },
  {
   "cell_type": "code",
   "execution_count": null,
   "metadata": {},
   "outputs": [],
   "source": []
  },
  {
   "cell_type": "code",
   "execution_count": null,
   "metadata": {},
   "outputs": [],
   "source": []
  },
  {
   "cell_type": "code",
   "execution_count": null,
   "metadata": {},
   "outputs": [],
   "source": []
  },
  {
   "cell_type": "code",
   "execution_count": null,
   "metadata": {},
   "outputs": [],
   "source": []
  },
  {
   "cell_type": "code",
   "execution_count": null,
   "metadata": {},
   "outputs": [],
   "source": []
  },
  {
   "cell_type": "code",
   "execution_count": null,
   "metadata": {},
   "outputs": [],
   "source": []
  },
  {
   "cell_type": "code",
   "execution_count": null,
   "metadata": {},
   "outputs": [],
   "source": []
  },
  {
   "cell_type": "code",
   "execution_count": null,
   "metadata": {},
   "outputs": [],
   "source": []
  },
  {
   "cell_type": "code",
   "execution_count": null,
   "metadata": {},
   "outputs": [],
   "source": []
  }
 ],
 "metadata": {
  "kernelspec": {
   "display_name": "Python 3 (ipykernel)",
   "language": "python",
   "name": "python3"
  },
  "language_info": {
   "codemirror_mode": {
    "name": "ipython",
    "version": 3
   },
   "file_extension": ".py",
   "mimetype": "text/x-python",
   "name": "python",
   "nbconvert_exporter": "python",
   "pygments_lexer": "ipython3",
   "version": "3.12.7"
  }
 },
 "nbformat": 4,
 "nbformat_minor": 4
}
